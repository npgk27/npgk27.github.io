{
 "cells": [
  {
   "cell_type": "code",
   "execution_count": 1,
   "id": "0dea85e7-2a7a-41e0-a05e-7a528b6bd77e",
   "metadata": {
    "tags": []
   },
   "outputs": [
    {
     "name": "stdout",
     "output_type": "stream",
     "text": [
      "[1, 2, 3, 4, 5]\n",
      "[1, 2, 3, 4, 5, 1, 2, 3, 4, 5]\n"
     ]
    }
   ],
   "source": [
    "# Phan tich va hien thi du lieu\n",
    "v = list(range(1, 6))\n",
    "print(v)\n",
    "print(2*v)"
   ]
  },
  {
   "cell_type": "code",
   "execution_count": 2,
   "id": "6489ca6c-1a9f-4446-8f33-0186989f9bf6",
   "metadata": {},
   "outputs": [
    {
     "name": "stdout",
     "output_type": "stream",
     "text": [
      "[1 2 3 4 5]\n",
      "[ 2  4  6  8 10]\n"
     ]
    }
   ],
   "source": [
    "import numpy as np\n",
    "v = np.arange(1, 6)\n",
    "print(v)\n",
    "print(2*v)"
   ]
  },
  {
   "cell_type": "code",
   "execution_count": null,
   "id": "6c196802-2e26-4841-ba44-88ff22c73a4a",
   "metadata": {},
   "outputs": [],
   "source": [
    "fruits = [\"apple\", \"banana\", \"cherry\"] #lists []\n",
    "colors = (\"red\", \"green\", \"blue\") #tuples ()\n",
    "animals = {'cat', 'dog'} #sets {}\n",
    "person = {\"name\" : \"Tom\", \"age\" : 20} #dictionaries {}"
   ]
  },
  {
   "cell_type": "code",
   "execution_count": 4,
   "id": "5c963629-5fa3-46df-9e8e-20419ab5d267",
   "metadata": {},
   "outputs": [
    {
     "name": "stdout",
     "output_type": "stream",
     "text": [
      "len(x)=  4\n",
      "60\n",
      "70\n",
      "90\n",
      "x[1:3]=  [70, 80]\n"
     ]
    }
   ],
   "source": [
    "#List ho tro toan tu truy xuat\n",
    "x = [60, 70, 80, 90]\n",
    "print('len(x)= ',len(x))\n",
    "print(x[0])\n",
    "print(x[1])\n",
    "print(x[-1])\n",
    "print('x[1:3]= ',x[1:3])"
   ]
  },
  {
   "cell_type": "code",
   "execution_count": null,
   "id": "0345662d-5ee7-4415-a5a7-bbd2935285c7",
   "metadata": {},
   "outputs": [],
   "source": [
    "from IPython.display"
   ]
  },
  {
   "cell_type": "code",
   "execution_count": 9,
   "id": "087c8c8f-1fd3-4e28-ae6d-fddca0e95205",
   "metadata": {},
   "outputs": [
    {
     "data": {
      "text/plain": [
       "array([[0., 0.],\n",
       "       [0., 0.]])"
      ]
     },
     "metadata": {},
     "output_type": "display_data"
    },
    {
     "data": {
      "text/plain": [
       "array([[1., 1.],\n",
       "       [1., 1.],\n",
       "       [1., 1.]])"
      ]
     },
     "metadata": {},
     "output_type": "display_data"
    },
    {
     "data": {
      "text/plain": [
       "array([[7, 7, 7, 7, 7],\n",
       "       [7, 7, 7, 7, 7],\n",
       "       [7, 7, 7, 7, 7],\n",
       "       [7, 7, 7, 7, 7]])"
      ]
     },
     "metadata": {},
     "output_type": "display_data"
    },
    {
     "data": {
      "text/plain": [
       "array([[1., 0.],\n",
       "       [0., 1.]])"
      ]
     },
     "metadata": {},
     "output_type": "display_data"
    },
    {
     "data": {
      "text/plain": [
       "array([[0.93080963, 0.40035937],\n",
       "       [0.93764648, 0.94222248]])"
      ]
     },
     "metadata": {},
     "output_type": "display_data"
    }
   ],
   "source": [
    "import numpy as np\n",
    "\n",
    "a=np.zeros((2,2))\n",
    "display(a)\n",
    "\n",
    "b=np.ones((3,2))\n",
    "display(b)\n",
    "\n",
    "c=np.full((4,5),7)\n",
    "display(c)\n",
    "\n",
    "d=np.eye(2)\n",
    "display(d)\n",
    "\n",
    "e=np.random.random((2,2))\n",
    "display(e)"
   ]
  },
  {
   "cell_type": "code",
   "execution_count": 14,
   "id": "d6673d32-b428-48ce-a6f6-29009b6f2d69",
   "metadata": {},
   "outputs": [
    {
     "data": {
      "text/plain": [
       "array([ 0,  1,  2,  3,  4,  5,  6,  7,  8,  9, 10, 11, 12, 13, 14])"
      ]
     },
     "metadata": {},
     "output_type": "display_data"
    },
    {
     "data": {
      "text/plain": [
       "array([ 0,  1,  2,  3,  4,  5,  6,  7,  8,  9, 10, 11, 12, 13, 14])"
      ]
     },
     "metadata": {},
     "output_type": "display_data"
    },
    {
     "data": {
      "text/plain": [
       "(15,)"
      ]
     },
     "metadata": {},
     "output_type": "display_data"
    },
    {
     "data": {
      "text/plain": [
       "1"
      ]
     },
     "metadata": {},
     "output_type": "display_data"
    },
    {
     "data": {
      "text/plain": [
       "'int64'"
      ]
     },
     "metadata": {},
     "output_type": "display_data"
    }
   ],
   "source": [
    "import numpy as np\n",
    "a = np.arange(15)\n",
    "display(a)\n",
    "\n",
    "a.reshape(3,5)\n",
    "display(a)\n",
    "\n",
    "display(a.shape)\n",
    "display(a.ndim)\n",
    "display(a.dtype.name)"
   ]
  },
  {
   "cell_type": "code",
   "execution_count": 15,
   "id": "8086c2e5-54f9-4a5c-abe8-e4afecfce7d0",
   "metadata": {},
   "outputs": [
    {
     "data": {
      "text/plain": [
       "array([1, 2, 3, 4, 5])"
      ]
     },
     "metadata": {},
     "output_type": "display_data"
    }
   ],
   "source": [
    "import numpy as np\n",
    "a = np.array([1,2,3,4,5])\n",
    "display(a)\n"
   ]
  },
  {
   "cell_type": "code",
   "execution_count": 16,
   "id": "06cfad27-a022-49a1-b103-e23c28a37daa",
   "metadata": {},
   "outputs": [
    {
     "data": {
      "text/plain": [
       "array([[ 1,  2,  3,  4,  5],\n",
       "       [ 6,  7,  8,  9, 10],\n",
       "       [11, 12, 13, 14, 15],\n",
       "       [16, 17, 18, 19, 20]])"
      ]
     },
     "metadata": {},
     "output_type": "display_data"
    },
    {
     "data": {
      "text/plain": [
       "(4, 5)"
      ]
     },
     "metadata": {},
     "output_type": "display_data"
    },
    {
     "data": {
      "text/plain": [
       "2"
      ]
     },
     "metadata": {},
     "output_type": "display_data"
    },
    {
     "data": {
      "text/plain": [
       "'int64'"
      ]
     },
     "metadata": {},
     "output_type": "display_data"
    }
   ],
   "source": [
    "a = np.array([\n",
    "    [1,2,3,4,5],\n",
    "    [6,7,8,9,10],\n",
    "    [11,12,13,14,15],\n",
    "    [16,17,18,19,20]])\n",
    "display(a)\n",
    "\n",
    "display(a.shape)\n",
    "display(a.ndim)\n",
    "display(a.dtype.name)"
   ]
  },
  {
   "cell_type": "code",
   "execution_count": 18,
   "id": "388d4cfb-0a2b-42aa-ba25-2fd3e12bb3f5",
   "metadata": {},
   "outputs": [
    {
     "data": {
      "text/plain": [
       "array([[ 0,  1,  2,  3],\n",
       "       [10, 11, 12, 13],\n",
       "       [20, 21, 22, 23]])"
      ]
     },
     "metadata": {},
     "output_type": "display_data"
    },
    {
     "data": {
      "text/plain": [
       "(3, 4)"
      ]
     },
     "metadata": {},
     "output_type": "display_data"
    },
    {
     "data": {
      "text/plain": [
       "2"
      ]
     },
     "metadata": {},
     "output_type": "display_data"
    }
   ],
   "source": [
    "a = np.array([[0, 1, 2, 3], \n",
    "[10, 11, 12, 13], \n",
    "[20, 21, 22, 23]])\n",
    "display(a)\n",
    "display(a.shape)\n",
    "display(a.ndim)"
   ]
  },
  {
   "cell_type": "markdown",
   "id": "bc20885e-ac80-4767-9aea-2c4594bcf4d7",
   "metadata": {},
   "source": [
    "## PANDAS\n"
   ]
  },
  {
   "cell_type": "code",
   "execution_count": 26,
   "id": "28d62134-cca9-414c-99ec-5d77e6fd583e",
   "metadata": {},
   "outputs": [
    {
     "data": {
      "text/html": [
       "<div>\n",
       "<style scoped>\n",
       "    .dataframe tbody tr th:only-of-type {\n",
       "        vertical-align: middle;\n",
       "    }\n",
       "\n",
       "    .dataframe tbody tr th {\n",
       "        vertical-align: top;\n",
       "    }\n",
       "\n",
       "    .dataframe thead th {\n",
       "        text-align: right;\n",
       "    }\n",
       "</style>\n",
       "<table border=\"1\" class=\"dataframe\">\n",
       "  <thead>\n",
       "    <tr style=\"text-align: right;\">\n",
       "      <th></th>\n",
       "      <th>a</th>\n",
       "      <th>b</th>\n",
       "      <th>c</th>\n",
       "    </tr>\n",
       "  </thead>\n",
       "  <tbody>\n",
       "    <tr>\n",
       "      <th>1</th>\n",
       "      <td>4</td>\n",
       "      <td>7</td>\n",
       "      <td>10</td>\n",
       "    </tr>\n",
       "    <tr>\n",
       "      <th>2</th>\n",
       "      <td>5</td>\n",
       "      <td>8</td>\n",
       "      <td>11</td>\n",
       "    </tr>\n",
       "    <tr>\n",
       "      <th>3</th>\n",
       "      <td>6</td>\n",
       "      <td>9</td>\n",
       "      <td>12</td>\n",
       "    </tr>\n",
       "  </tbody>\n",
       "</table>\n",
       "</div>"
      ],
      "text/plain": [
       "   a  b   c\n",
       "1  4  7  10\n",
       "2  5  8  11\n",
       "3  6  9  12"
      ]
     },
     "metadata": {},
     "output_type": "display_data"
    },
    {
     "data": {
      "text/plain": [
       "a     4\n",
       "b     7\n",
       "c    10\n",
       "Name: 1, dtype: int64"
      ]
     },
     "metadata": {},
     "output_type": "display_data"
    },
    {
     "data": {
      "text/html": [
       "<div>\n",
       "<style scoped>\n",
       "    .dataframe tbody tr th:only-of-type {\n",
       "        vertical-align: middle;\n",
       "    }\n",
       "\n",
       "    .dataframe tbody tr th {\n",
       "        vertical-align: top;\n",
       "    }\n",
       "\n",
       "    .dataframe thead th {\n",
       "        text-align: right;\n",
       "    }\n",
       "</style>\n",
       "<table border=\"1\" class=\"dataframe\">\n",
       "  <thead>\n",
       "    <tr style=\"text-align: right;\">\n",
       "      <th></th>\n",
       "      <th>a</th>\n",
       "      <th>b</th>\n",
       "      <th>c</th>\n",
       "    </tr>\n",
       "  </thead>\n",
       "  <tbody>\n",
       "    <tr>\n",
       "      <th>0</th>\n",
       "      <td>4</td>\n",
       "      <td>7</td>\n",
       "      <td>10</td>\n",
       "    </tr>\n",
       "    <tr>\n",
       "      <th>1</th>\n",
       "      <td>5</td>\n",
       "      <td>8</td>\n",
       "      <td>11</td>\n",
       "    </tr>\n",
       "    <tr>\n",
       "      <th>2</th>\n",
       "      <td>6</td>\n",
       "      <td>9</td>\n",
       "      <td>12</td>\n",
       "    </tr>\n",
       "  </tbody>\n",
       "</table>\n",
       "</div>"
      ],
      "text/plain": [
       "   a  b   c\n",
       "0  4  7  10\n",
       "1  5  8  11\n",
       "2  6  9  12"
      ]
     },
     "metadata": {},
     "output_type": "display_data"
    },
    {
     "data": {
      "text/plain": [
       "a     5\n",
       "b     8\n",
       "c    11\n",
       "Name: 1, dtype: int64"
      ]
     },
     "metadata": {},
     "output_type": "display_data"
    }
   ],
   "source": [
    "#### import pandas as pd\n",
    "a = pd.DataFrame(\n",
    "    {\n",
    "        'a': [4,5,6],\n",
    "        'b': [7,8,9],\n",
    "        'c': [10,11,12]},\n",
    "        index = [1,2,3])\n",
    "display(a)\n",
    "display(a.loc[1])\n",
    "    \n",
    "b= pd.DataFrame([\n",
    "    {'a':4, 'b':7, 'c':10},\n",
    "    {'a':5, 'b':8, 'c':11},\n",
    "    {'a':6, 'b':9, 'c':12},\n",
    "])\n",
    "display(b)\n",
    "display(b.loc[1])"
   ]
  },
  {
   "cell_type": "code",
   "execution_count": 30,
   "id": "28148bdf-d618-4b2b-8762-93e5b45c022e",
   "metadata": {},
   "outputs": [
    {
     "data": {
      "text/plain": [
       "0    1.0\n",
       "1    3.0\n",
       "2    5.0\n",
       "3    NaN\n",
       "4    6.0\n",
       "5    8.0\n",
       "dtype: float64"
      ]
     },
     "metadata": {},
     "output_type": "display_data"
    },
    {
     "data": {
      "text/plain": [
       "DatetimeIndex(['2018-10-01', '2018-10-02', '2018-10-03', '2018-10-04',\n",
       "               '2018-10-05', '2018-10-06'],\n",
       "              dtype='datetime64[ns]', freq='D')"
      ]
     },
     "metadata": {},
     "output_type": "display_data"
    }
   ],
   "source": [
    "import numpy as np\n",
    "import pandas as pd\n",
    "import matplotlib.pyplot as plt\n",
    "\n",
    "s=pd.Series([1,3,5,np.nan,6,8])\n",
    "display(s)\n",
    "\n",
    "dates = pd.date_range('20181001',periods=6)\n",
    "display(dates)"
   ]
  },
  {
   "cell_type": "code",
   "execution_count": 33,
   "id": "707dbf5b-3790-4762-bdda-0ea9fa9e6c5d",
   "metadata": {},
   "outputs": [
    {
     "data": {
      "text/html": [
       "<div>\n",
       "<style scoped>\n",
       "    .dataframe tbody tr th:only-of-type {\n",
       "        vertical-align: middle;\n",
       "    }\n",
       "\n",
       "    .dataframe tbody tr th {\n",
       "        vertical-align: top;\n",
       "    }\n",
       "\n",
       "    .dataframe thead th {\n",
       "        text-align: right;\n",
       "    }\n",
       "</style>\n",
       "<table border=\"1\" class=\"dataframe\">\n",
       "  <thead>\n",
       "    <tr style=\"text-align: right;\">\n",
       "      <th></th>\n",
       "      <th>A</th>\n",
       "      <th>B</th>\n",
       "      <th>C</th>\n",
       "      <th>D</th>\n",
       "    </tr>\n",
       "  </thead>\n",
       "  <tbody>\n",
       "    <tr>\n",
       "      <th>2018-10-01</th>\n",
       "      <td>-2.419469</td>\n",
       "      <td>0.161762</td>\n",
       "      <td>1.891104</td>\n",
       "      <td>1.293159</td>\n",
       "    </tr>\n",
       "    <tr>\n",
       "      <th>2018-10-02</th>\n",
       "      <td>0.063016</td>\n",
       "      <td>1.208218</td>\n",
       "      <td>0.386426</td>\n",
       "      <td>-1.765140</td>\n",
       "    </tr>\n",
       "    <tr>\n",
       "      <th>2018-10-03</th>\n",
       "      <td>-0.783400</td>\n",
       "      <td>0.217433</td>\n",
       "      <td>1.244352</td>\n",
       "      <td>-0.940392</td>\n",
       "    </tr>\n",
       "    <tr>\n",
       "      <th>2018-10-04</th>\n",
       "      <td>0.820195</td>\n",
       "      <td>-1.020896</td>\n",
       "      <td>0.522069</td>\n",
       "      <td>-1.595863</td>\n",
       "    </tr>\n",
       "    <tr>\n",
       "      <th>2018-10-05</th>\n",
       "      <td>1.755968</td>\n",
       "      <td>-2.193981</td>\n",
       "      <td>0.539239</td>\n",
       "      <td>-1.117399</td>\n",
       "    </tr>\n",
       "    <tr>\n",
       "      <th>2018-10-06</th>\n",
       "      <td>1.084717</td>\n",
       "      <td>1.531906</td>\n",
       "      <td>0.600929</td>\n",
       "      <td>-0.581840</td>\n",
       "    </tr>\n",
       "  </tbody>\n",
       "</table>\n",
       "</div>"
      ],
      "text/plain": [
       "                   A         B         C         D\n",
       "2018-10-01 -2.419469  0.161762  1.891104  1.293159\n",
       "2018-10-02  0.063016  1.208218  0.386426 -1.765140\n",
       "2018-10-03 -0.783400  0.217433  1.244352 -0.940392\n",
       "2018-10-04  0.820195 -1.020896  0.522069 -1.595863\n",
       "2018-10-05  1.755968 -2.193981  0.539239 -1.117399\n",
       "2018-10-06  1.084717  1.531906  0.600929 -0.581840"
      ]
     },
     "metadata": {},
     "output_type": "display_data"
    },
    {
     "data": {
      "text/plain": [
       "A   -0.783400\n",
       "B    0.217433\n",
       "C    1.244352\n",
       "D   -0.940392\n",
       "Name: 2018-10-03 00:00:00, dtype: float64"
      ]
     },
     "metadata": {},
     "output_type": "display_data"
    },
    {
     "data": {
      "text/plain": [
       "2018-10-01    0.161762\n",
       "2018-10-02    1.208218\n",
       "2018-10-03    0.217433\n",
       "2018-10-04   -1.020896\n",
       "2018-10-05   -2.193981\n",
       "2018-10-06    1.531906\n",
       "Freq: D, Name: B, dtype: float64"
      ]
     },
     "metadata": {},
     "output_type": "display_data"
    }
   ],
   "source": [
    "df = pd.DataFrame(np.random.randn(6,4), columns=['A','B','C','D',], index = dates )\n",
    "display(df)\n",
    "\n",
    "display(df.loc['2018-10-03'])\n",
    "display(df['B'])"
   ]
  },
  {
   "cell_type": "code",
   "execution_count": 37,
   "id": "740c5bac-4397-4699-bb93-5adef1d6be0c",
   "metadata": {},
   "outputs": [
    {
     "data": {
      "text/html": [
       "<div>\n",
       "<style scoped>\n",
       "    .dataframe tbody tr th:only-of-type {\n",
       "        vertical-align: middle;\n",
       "    }\n",
       "\n",
       "    .dataframe tbody tr th {\n",
       "        vertical-align: top;\n",
       "    }\n",
       "\n",
       "    .dataframe thead th {\n",
       "        text-align: right;\n",
       "    }\n",
       "</style>\n",
       "<table border=\"1\" class=\"dataframe\">\n",
       "  <thead>\n",
       "    <tr style=\"text-align: right;\">\n",
       "      <th></th>\n",
       "      <th>A</th>\n",
       "      <th>B</th>\n",
       "      <th>C</th>\n",
       "      <th>D</th>\n",
       "      <th>E</th>\n",
       "    </tr>\n",
       "  </thead>\n",
       "  <tbody>\n",
       "    <tr>\n",
       "      <th>student 1</th>\n",
       "      <td>-0.220437</td>\n",
       "      <td>-0.041986</td>\n",
       "      <td>0.780176</td>\n",
       "      <td>0.465842</td>\n",
       "      <td>0.178798</td>\n",
       "    </tr>\n",
       "    <tr>\n",
       "      <th>student 2</th>\n",
       "      <td>-1.853611</td>\n",
       "      <td>-0.660384</td>\n",
       "      <td>-1.236132</td>\n",
       "      <td>-0.064983</td>\n",
       "      <td>-0.182801</td>\n",
       "    </tr>\n",
       "    <tr>\n",
       "      <th>student 3</th>\n",
       "      <td>0.707727</td>\n",
       "      <td>-0.771857</td>\n",
       "      <td>-0.462130</td>\n",
       "      <td>0.344212</td>\n",
       "      <td>0.325694</td>\n",
       "    </tr>\n",
       "  </tbody>\n",
       "</table>\n",
       "</div>"
      ],
      "text/plain": [
       "                  A         B         C         D         E\n",
       "student 1 -0.220437 -0.041986  0.780176  0.465842  0.178798\n",
       "student 2 -1.853611 -0.660384 -1.236132 -0.064983 -0.182801\n",
       "student 3  0.707727 -0.771857 -0.462130  0.344212  0.325694"
      ]
     },
     "metadata": {},
     "output_type": "display_data"
    }
   ],
   "source": [
    "df=pd.DataFrame(np.random.randn(3,5), index=['student 1','student 2', 'student 3'], columns=list('ABCDE'))\n",
    "display(df)"
   ]
  },
  {
   "cell_type": "code",
   "execution_count": null,
   "id": "098acba5-5cac-48bb-bc75-e69066743a88",
   "metadata": {},
   "outputs": [],
   "source": []
  }
 ],
 "metadata": {
  "kernelspec": {
   "display_name": "Python 3 (ipykernel)",
   "language": "python",
   "name": "python3"
  },
  "language_info": {
   "codemirror_mode": {
    "name": "ipython",
    "version": 3
   },
   "file_extension": ".py",
   "mimetype": "text/x-python",
   "name": "python",
   "nbconvert_exporter": "python",
   "pygments_lexer": "ipython3",
   "version": "3.13.5"
  }
 },
 "nbformat": 4,
 "nbformat_minor": 5
}

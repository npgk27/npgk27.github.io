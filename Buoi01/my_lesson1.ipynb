{
 "cells": [
  {
   "cell_type": "markdown",
   "id": "25deb46d-21cf-4792-8522-e8ec4d1bf314",
   "metadata": {},
   "source": [
    "# Thuc hanh Tri tue nhan tao Buoi 1\n",
    "\n",
    "## Noi dung thuc hanh"
   ]
  },
  {
   "cell_type": "markdown",
   "id": "974dd893-434a-4f9e-bf34-a8c45e257931",
   "metadata": {},
   "source": [
    "### In chu ra man hinh"
   ]
  },
  {
   "cell_type": "code",
   "execution_count": 4,
   "id": "fc7e6a13-0e69-489f-8f74-44656d6d056e",
   "metadata": {},
   "outputs": [
    {
     "name": "stdout",
     "output_type": "stream",
     "text": [
      "Hello, Python World!\n"
     ]
    }
   ],
   "source": [
    "# lenh 1 - xuat chu ra man hinh\n",
    "print(\"Hello, Python World!\")"
   ]
  },
  {
   "cell_type": "markdown",
   "id": "64116288-f709-474e-80ef-c60d2c8a0bf7",
   "metadata": {
    "tags": []
   },
   "source": [
    "### Chay tap tin python\n"
   ]
  },
  {
   "cell_type": "code",
   "execution_count": 6,
   "id": "c83e8bd0-c690-4912-8976-61f11a8d04c2",
   "metadata": {},
   "outputs": [
    {
     "name": "stdout",
     "output_type": "stream",
     "text": [
      "Hello, Python World\n"
     ]
    }
   ],
   "source": [
    "!python ex0_hello_world.py"
   ]
  },
  {
   "cell_type": "code",
   "execution_count": 7,
   "id": "3c5cf569-f0e3-4467-a499-01faa3f2a6f2",
   "metadata": {},
   "outputs": [
    {
     "name": "stdout",
     "output_type": "stream",
     "text": [
      "Hello, Python World\n"
     ]
    }
   ],
   "source": [
    "%run ex0_hello_world.py"
   ]
  },
  {
   "cell_type": "markdown",
   "id": "4bd4f7d4-a44c-4806-9214-ee9d91b5eac8",
   "metadata": {},
   "source": [
    "### Tinh Toan Don Gian\n"
   ]
  },
  {
   "cell_type": "code",
   "execution_count": 1,
   "id": "99c4fd8f-4b76-4014-a62d-b5aaa78b8577",
   "metadata": {},
   "outputs": [
    {
     "name": "stdout",
     "output_type": "stream",
     "text": [
      "Calculator Basic\n"
     ]
    },
    {
     "name": "stdin",
     "output_type": "stream",
     "text": [
      "Moi ban nhap so a:  10\n",
      "Moi ban nhap so b:  20\n"
     ]
    },
    {
     "name": "stdout",
     "output_type": "stream",
     "text": [
      "c = 10 + 20 = 30\n"
     ]
    }
   ],
   "source": [
    "%run ex1_calc.py"
   ]
  },
  {
   "cell_type": "code",
   "execution_count": 11,
   "id": "cd9a6c77-7f67-41ba-97e2-f6d634eda41a",
   "metadata": {},
   "outputs": [
    {
     "name": "stdout",
     "output_type": "stream",
     "text": [
      "Calculator Basic\n"
     ]
    },
    {
     "name": "stdin",
     "output_type": "stream",
     "text": [
      "Moi ban nhap so a:  10\n",
      "Moi ban nhap so b:  20\n"
     ]
    },
    {
     "name": "stdout",
     "output_type": "stream",
     "text": [
      "c = 10 + 20 = 30\n"
     ]
    }
   ],
   "source": [
    "print(\"Calculator Basic\")\n",
    "a = int(input(\"Moi ban nhap so a: \"))\n",
    "b = int(input(\"Moi ban nhap so b: \"))\n",
    "c = a + b\n",
    "print(\"c = %d + %d = %d\" % (a, b, c))"
   ]
  },
  {
   "cell_type": "markdown",
   "id": "c79a50fe-38ac-4429-9664-e19952a1d0ce",
   "metadata": {},
   "source": [
    "# Ket thuc"
   ]
  },
  {
   "cell_type": "code",
   "execution_count": null,
   "id": "3b888e78-4535-471c-abab-c43cf9c3fe4e",
   "metadata": {},
   "outputs": [],
   "source": []
  }
 ],
 "metadata": {
  "kernelspec": {
   "display_name": "Python 3 (ipykernel)",
   "language": "python",
   "name": "python3"
  },
  "language_info": {
   "codemirror_mode": {
    "name": "ipython",
    "version": 3
   },
   "file_extension": ".py",
   "mimetype": "text/x-python",
   "name": "python",
   "nbconvert_exporter": "python",
   "pygments_lexer": "ipython3",
   "version": "3.13.5"
  }
 },
 "nbformat": 4,
 "nbformat_minor": 5
}

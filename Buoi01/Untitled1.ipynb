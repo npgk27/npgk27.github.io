{
 "cells": [
  {
   "cell_type": "code",
   "execution_count": 8,
   "id": "c9db92fc-e706-4560-9e46-b9017c79f3e3",
   "metadata": {},
   "outputs": [
    {
     "name": "stdout",
     "output_type": "stream",
     "text": [
      "Overwriting HinhTron.in1\n"
     ]
    }
   ],
   "source": [
    "%%writefile HinhTron.in1\n",
    "5"
   ]
  },
  {
   "cell_type": "code",
   "execution_count": 9,
   "id": "2bc7b74b-9421-4152-97b1-b87ae1efb160",
   "metadata": {},
   "outputs": [
    {
     "name": "stdout",
     "output_type": "stream",
     "text": [
      "Nhap ban kinh: Dien tich S = 78.5\n",
      "Chu vi P = 31.4\n"
     ]
    }
   ],
   "source": [
    "!python HinhTron.py < HinhTron.in1"
   ]
  }
 ],
 "metadata": {
  "kernelspec": {
   "display_name": "Python 3 (ipykernel)",
   "language": "python",
   "name": "python3"
  },
  "language_info": {
   "codemirror_mode": {
    "name": "ipython",
    "version": 3
   },
   "file_extension": ".py",
   "mimetype": "text/x-python",
   "name": "python",
   "nbconvert_exporter": "python",
   "pygments_lexer": "ipython3",
   "version": "3.13.5"
  }
 },
 "nbformat": 4,
 "nbformat_minor": 5
}

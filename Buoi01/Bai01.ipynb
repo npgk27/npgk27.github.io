{
 "cells": [
  {
   "cell_type": "code",
   "execution_count": 4,
   "id": "41bdc2f4-f723-4a61-acff-2345f05cded6",
   "metadata": {},
   "outputs": [
    {
     "name": "stdout",
     "output_type": "stream",
     "text": [
      "**************************\n",
      "* Truong: Dai Hoc UEH    *\n",
      "* Khoa: CNTT             *\n",
      "* Ho ten:                *\n",
      "**************************\n"
     ]
    }
   ],
   "source": [
    "%run InNhan.py"
   ]
  }
 ],
 "metadata": {
  "kernelspec": {
   "display_name": "Python 3 (ipykernel)",
   "language": "python",
   "name": "python3"
  },
  "language_info": {
   "codemirror_mode": {
    "name": "ipython",
    "version": 3
   },
   "file_extension": ".py",
   "mimetype": "text/x-python",
   "name": "python",
   "nbconvert_exporter": "python",
   "pygments_lexer": "ipython3",
   "version": "3.13.5"
  }
 },
 "nbformat": 4,
 "nbformat_minor": 5
}
